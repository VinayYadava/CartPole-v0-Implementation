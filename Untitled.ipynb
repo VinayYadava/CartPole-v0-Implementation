{
 "cells": [
  {
   "cell_type": "code",
   "execution_count": 1,
   "id": "62e55df6-46c6-41ab-b2f3-8c39c58a6a96",
   "metadata": {
    "tags": []
   },
   "outputs": [
    {
     "name": "stdout",
     "output_type": "stream",
     "text": [
      "1.0\n",
      "2.0\n",
      "3.0\n",
      "4.0\n",
      "5.0\n",
      "6.0\n",
      "7.0\n",
      "8.0\n",
      "9.0\n",
      "10.0\n",
      "11.0\n",
      "12.0\n",
      "13.0\n",
      "14.0\n",
      "15.0\n",
      "16.0\n",
      "17.0\n",
      "18.0\n",
      "19.0\n",
      "episode: 1  a: 19\n",
      "1.0\n",
      "2.0\n",
      "3.0\n",
      "4.0\n",
      "5.0\n",
      "6.0\n",
      "7.0\n",
      "8.0\n",
      "9.0\n",
      "10.0\n",
      "11.0\n",
      "12.0\n",
      "13.0\n",
      "14.0\n",
      "15.0\n",
      "16.0\n",
      "17.0\n",
      "18.0\n",
      "19.0\n",
      "20.0\n",
      "21.0\n",
      "episode: 2  a: 21\n",
      "1.0\n",
      "2.0\n",
      "3.0\n",
      "4.0\n",
      "5.0\n",
      "6.0\n",
      "7.0\n",
      "8.0\n",
      "9.0\n",
      "10.0\n",
      "11.0\n",
      "12.0\n",
      "13.0\n",
      "14.0\n",
      "15.0\n",
      "16.0\n",
      "17.0\n",
      "18.0\n",
      "19.0\n",
      "20.0\n",
      "21.0\n",
      "22.0\n",
      "23.0\n",
      "24.0\n",
      "25.0\n",
      "26.0\n",
      "27.0\n",
      "28.0\n",
      "29.0\n",
      "30.0\n",
      "31.0\n",
      "episode: 3  a: 31\n",
      "1.0\n",
      "2.0\n",
      "3.0\n",
      "4.0\n",
      "5.0\n",
      "6.0\n",
      "7.0\n",
      "8.0\n",
      "9.0\n",
      "10.0\n",
      "11.0\n",
      "12.0\n",
      "episode: 4  a: 12\n",
      "1.0\n",
      "2.0\n",
      "3.0\n",
      "4.0\n",
      "5.0\n",
      "6.0\n",
      "7.0\n",
      "8.0\n",
      "9.0\n",
      "10.0\n",
      "11.0\n",
      "12.0\n",
      "13.0\n",
      "14.0\n",
      "15.0\n",
      "16.0\n",
      "episode: 5  a: 16\n"
     ]
    }
   ],
   "source": [
    "from project import *\n",
    "\n",
    "env_name = \"CartPole-v0\"\n",
    "            enviroment = gym.make(env_name)\n",
    "\n",
    "\n",
    "episodes = 5\n",
    "\n",
    "for episode in range(1,episodes+1):\n",
    "    state = enviroment.reset()\n",
    "    done = False\n",
    "    score = 0\n",
    "    a=0\n",
    "    while not done:\n",
    "        enviroment.render()\n",
    "        action = enviroment.action_space.sample()\n",
    "        n_state,reward,done,info = enviroment.step(action)\n",
    "        score+=reward\n",
    "        a=a+1\n",
    "        print(score)\n",
    "\n",
    "        #print(\"episode:{}\".format(episode))\n",
    "        #print(\"score:{} , state:{} , action:{} \".format(score, state , action))\n",
    "        #print(\"n_state:{} , reward:{} , done:{} , info:{}\".format(n_state, reward, done, info))\n",
    "    print(\"episode:\",episode,\" a:\",a)\n",
    "enviroment.close()"
   ]
  },
  {
   "cell_type": "code",
   "execution_count": 7,
   "id": "390a977c-d9b3-48b1-becb-07ad18d053eb",
   "metadata": {
    "tags": []
   },
   "outputs": [
    {
     "data": {
      "text/plain": [
       "array([-0.0484145 ,  0.03187293,  0.03423935, -0.00947313], dtype=float32)"
      ]
     },
     "execution_count": 7,
     "metadata": {},
     "output_type": "execute_result"
    }
   ],
   "source": [
    "enviroment.reset()"
   ]
  },
  {
   "cell_type": "code",
   "execution_count": 8,
   "id": "1e13099c-5686-4006-a426-436b8002a21b",
   "metadata": {
    "tags": []
   },
   "outputs": [
    {
     "data": {
      "text/plain": [
       "(array([-0.04777704,  0.22648753,  0.03404989, -0.29115954], dtype=float32),\n",
       " 1.0,\n",
       " False,\n",
       " {})"
      ]
     },
     "execution_count": 8,
     "metadata": {},
     "output_type": "execute_result"
    }
   ],
   "source": [
    "enviroment.step(1)"
   ]
  },
  {
   "cell_type": "code",
   "execution_count": 10,
   "id": "0739b31c-b783-468a-bc2a-6d2077cbcced",
   "metadata": {
    "tags": []
   },
   "outputs": [
    {
     "data": {
      "text/plain": [
       "Box([-4.8000002e+00 -3.4028235e+38 -4.1887903e-01 -3.4028235e+38], [4.8000002e+00 3.4028235e+38 4.1887903e-01 3.4028235e+38], (4,), float32)"
      ]
     },
     "execution_count": 10,
     "metadata": {},
     "output_type": "execute_result"
    }
   ],
   "source": [
    "enviroment.observation_space.sample()"
   ]
  },
  {
   "cell_type": "code",
   "execution_count": 11,
   "id": "63fcb824-5a55-4e84-ac7f-5854d1dc6160",
   "metadata": {
    "tags": []
   },
   "outputs": [
    {
     "data": {
      "text/plain": [
       "True"
      ]
     },
     "execution_count": 11,
     "metadata": {},
     "output_type": "execute_result"
    }
   ],
   "source": [
    "enviroment.render()"
   ]
  },
  {
   "cell_type": "code",
   "execution_count": null,
   "id": "94d130f2-e322-41bd-9441-d3365a9ae1d6",
   "metadata": {},
   "outputs": [],
   "source": []
  }
 ],
 "metadata": {
  "kernelspec": {
   "display_name": "Python 3 (ipykernel)",
   "language": "python",
   "name": "python3"
  },
  "language_info": {
   "codemirror_mode": {
    "name": "ipython",
    "version": 3
   },
   "file_extension": ".py",
   "mimetype": "text/x-python",
   "name": "python",
   "nbconvert_exporter": "python",
   "pygments_lexer": "ipython3",
   "version": "3.10.6"
  }
 },
 "nbformat": 4,
 "nbformat_minor": 5
}
